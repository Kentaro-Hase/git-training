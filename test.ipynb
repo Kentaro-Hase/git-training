{
 "cells": [
  {
   "cell_type": "code",
   "execution_count": 1,
   "metadata": {},
   "outputs": [],
   "source": [
    "# Libraries\n",
    "import numpy as np\n",
   ]
  },
  {
   "cell_type": "code",
   "execution_count": 2,
   "metadata": {},
   "outputs": [],
   "source": [
    "# Lon Lat\n",
    "a = np.linspace(126. + 1. / 160., 146. - 1. / 160, 1600)\n",
    "b = np.linspace(46. - 1. / 240, 26. + 1. / 240, 2400)\n",
    "lon, lat = np.meshgrid(a, b)"
   ]
  },
 ],
 "metadata": {
  "kernelspec": {
   "display_name": "Python 3",
   "language": "python",
   "name": "python3"
  }
 },
 "nbformat": 4,
 "nbformat_minor": 2
}
